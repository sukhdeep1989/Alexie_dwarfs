{
 "cells": [
  {
   "cell_type": "code",
   "execution_count": 3,
   "metadata": {},
   "outputs": [],
   "source": [
    "#import camb\n",
    "#pars = camb.CAMBparams()\n",
    "from scipy.special import jn, jn_zeros\n",
    "#from camb import model, initialpower\n",
    "from scipy.interpolate import interp1d\n",
    "from hankel_transform import *\n",
    "from power_spectra import *\n",
    "from astropy.cosmology import Planck15 as cosmo #use Planck15 if you can\n",
    "import astropy.units as u\n",
    "from matplotlib.colors import LogNorm\n",
    "import matplotlib.pyplot as plt\n",
    "plt.rcParams['figure.figsize'] = [12, 5]\n",
    "from scipy.signal import savgol_filter\n",
    "\n",
    "plt.rcParams['text.usetex'] = False\n",
    "#rc('text', usetex=False)"
   ]
  },
  {
   "cell_type": "raw",
   "metadata": {},
   "source": [
    "#check H0\n",
    "cosmo_h=cosmo.clone(H0=100)#we want h=1 for some comparisons"
   ]
  },
  {
   "cell_type": "code",
   "execution_count": 2,
   "metadata": {},
   "outputs": [
    {
     "ename": "OSError",
     "evalue": "./BolPlanck_r_DS_50.txt not found.",
     "output_type": "error",
     "traceback": [
      "\u001b[0;31m---------------------------------------------------------------------------\u001b[0m",
      "\u001b[0;31mOSError\u001b[0m                                   Traceback (most recent call last)",
      "\u001b[0;32m<ipython-input-2-a393d8adf0f4>\u001b[0m in \u001b[0;36m<module>\u001b[0;34m()\u001b[0m\n\u001b[0;32m----> 1\u001b[0;31m \u001b[0mDS_prof\u001b[0m\u001b[0;34m=\u001b[0m\u001b[0mnp\u001b[0m\u001b[0;34m.\u001b[0m\u001b[0mgenfromtxt\u001b[0m\u001b[0;34m(\u001b[0m\u001b[0;34m'./BolPlanck_r_DS_50.txt'\u001b[0m\u001b[0;34m,\u001b[0m\u001b[0mnames\u001b[0m\u001b[0;34m=\u001b[0m\u001b[0;34m(\u001b[0m\u001b[0;34m'rp'\u001b[0m\u001b[0;34m,\u001b[0m\u001b[0;34m'DS'\u001b[0m\u001b[0;34m)\u001b[0m\u001b[0;34m)\u001b[0m\u001b[0;34m\u001b[0m\u001b[0m\n\u001b[0m",
      "\u001b[0;32m~/anaconda/lib/python3.6/site-packages/numpy/lib/npyio.py\u001b[0m in \u001b[0;36mgenfromtxt\u001b[0;34m(fname, dtype, comments, delimiter, skip_header, skip_footer, converters, missing_values, filling_values, usecols, names, excludelist, deletechars, replace_space, autostrip, case_sensitive, defaultfmt, unpack, usemask, loose, invalid_raise, max_rows, encoding)\u001b[0m\n\u001b[1;32m   1687\u001b[0m             \u001b[0mfname\u001b[0m \u001b[0;34m=\u001b[0m \u001b[0mstr\u001b[0m\u001b[0;34m(\u001b[0m\u001b[0mfname\u001b[0m\u001b[0;34m)\u001b[0m\u001b[0;34m\u001b[0m\u001b[0m\n\u001b[1;32m   1688\u001b[0m         \u001b[0;32mif\u001b[0m \u001b[0misinstance\u001b[0m\u001b[0;34m(\u001b[0m\u001b[0mfname\u001b[0m\u001b[0;34m,\u001b[0m \u001b[0mbasestring\u001b[0m\u001b[0;34m)\u001b[0m\u001b[0;34m:\u001b[0m\u001b[0;34m\u001b[0m\u001b[0m\n\u001b[0;32m-> 1689\u001b[0;31m             \u001b[0mfhd\u001b[0m \u001b[0;34m=\u001b[0m \u001b[0miter\u001b[0m\u001b[0;34m(\u001b[0m\u001b[0mnp\u001b[0m\u001b[0;34m.\u001b[0m\u001b[0mlib\u001b[0m\u001b[0;34m.\u001b[0m\u001b[0m_datasource\u001b[0m\u001b[0;34m.\u001b[0m\u001b[0mopen\u001b[0m\u001b[0;34m(\u001b[0m\u001b[0mfname\u001b[0m\u001b[0;34m,\u001b[0m \u001b[0;34m'rt'\u001b[0m\u001b[0;34m,\u001b[0m \u001b[0mencoding\u001b[0m\u001b[0;34m=\u001b[0m\u001b[0mencoding\u001b[0m\u001b[0;34m)\u001b[0m\u001b[0;34m)\u001b[0m\u001b[0;34m\u001b[0m\u001b[0m\n\u001b[0m\u001b[1;32m   1690\u001b[0m             \u001b[0mown_fhd\u001b[0m \u001b[0;34m=\u001b[0m \u001b[0;32mTrue\u001b[0m\u001b[0;34m\u001b[0m\u001b[0m\n\u001b[1;32m   1691\u001b[0m         \u001b[0;32melse\u001b[0m\u001b[0;34m:\u001b[0m\u001b[0;34m\u001b[0m\u001b[0m\n",
      "\u001b[0;32m~/anaconda/lib/python3.6/site-packages/numpy/lib/_datasource.py\u001b[0m in \u001b[0;36mopen\u001b[0;34m(path, mode, destpath, encoding, newline)\u001b[0m\n\u001b[1;32m    258\u001b[0m \u001b[0;34m\u001b[0m\u001b[0m\n\u001b[1;32m    259\u001b[0m     \u001b[0mds\u001b[0m \u001b[0;34m=\u001b[0m \u001b[0mDataSource\u001b[0m\u001b[0;34m(\u001b[0m\u001b[0mdestpath\u001b[0m\u001b[0;34m)\u001b[0m\u001b[0;34m\u001b[0m\u001b[0m\n\u001b[0;32m--> 260\u001b[0;31m     \u001b[0;32mreturn\u001b[0m \u001b[0mds\u001b[0m\u001b[0;34m.\u001b[0m\u001b[0mopen\u001b[0m\u001b[0;34m(\u001b[0m\u001b[0mpath\u001b[0m\u001b[0;34m,\u001b[0m \u001b[0mmode\u001b[0m\u001b[0;34m,\u001b[0m \u001b[0mencoding\u001b[0m\u001b[0;34m=\u001b[0m\u001b[0mencoding\u001b[0m\u001b[0;34m,\u001b[0m \u001b[0mnewline\u001b[0m\u001b[0;34m=\u001b[0m\u001b[0mnewline\u001b[0m\u001b[0;34m)\u001b[0m\u001b[0;34m\u001b[0m\u001b[0m\n\u001b[0m\u001b[1;32m    261\u001b[0m \u001b[0;34m\u001b[0m\u001b[0m\n\u001b[1;32m    262\u001b[0m \u001b[0;34m\u001b[0m\u001b[0m\n",
      "\u001b[0;32m~/anaconda/lib/python3.6/site-packages/numpy/lib/_datasource.py\u001b[0m in \u001b[0;36mopen\u001b[0;34m(self, path, mode, encoding, newline)\u001b[0m\n\u001b[1;32m    614\u001b[0m                                       encoding=encoding, newline=newline)\n\u001b[1;32m    615\u001b[0m         \u001b[0;32melse\u001b[0m\u001b[0;34m:\u001b[0m\u001b[0;34m\u001b[0m\u001b[0m\n\u001b[0;32m--> 616\u001b[0;31m             \u001b[0;32mraise\u001b[0m \u001b[0mIOError\u001b[0m\u001b[0;34m(\u001b[0m\u001b[0;34m\"%s not found.\"\u001b[0m \u001b[0;34m%\u001b[0m \u001b[0mpath\u001b[0m\u001b[0;34m)\u001b[0m\u001b[0;34m\u001b[0m\u001b[0m\n\u001b[0m\u001b[1;32m    617\u001b[0m \u001b[0;34m\u001b[0m\u001b[0m\n\u001b[1;32m    618\u001b[0m \u001b[0;34m\u001b[0m\u001b[0m\n",
      "\u001b[0;31mOSError\u001b[0m: ./BolPlanck_r_DS_50.txt not found."
     ]
    }
   ],
   "source": [
    "DS_prof=np.genfromtxt('./BolPlanck_r_DS_50.txt',names=('rp','DS'))"
   ]
  },
  {
   "cell_type": "code",
   "execution_count": null,
   "metadata": {
    "collapsed": true
   },
   "outputs": [],
   "source": [
    "dlogr=np.gradient(np.log10(DS_prof['rp']))[0]\n",
    "rmin=0.01 #10**(np.log10(DS_prof['rp'][0])-dlogr/2)\n",
    "rmax=20 #10**(np.log10(DS_prof['rp'][-1])+dlogr/2)\n",
    "nbins=len(DS_prof['rp'])\n",
    "rp_bins=np.logspace(np.log10(rmin),np.log10(rmax),nbins+1)"
   ]
  },
  {
   "cell_type": "code",
   "execution_count": null,
   "metadata": {
    "collapsed": true
   },
   "outputs": [],
   "source": [
    "z_lens_min=0.05\n",
    "z_lens_max=0.2\n",
    "z_lens_mean = (z_lens_min+z_lens_max)/2\n",
    "#change to lens z (z_lens_mean)\n",
    "z_lens=np.atleast_1d([z_lens_mean])"
   ]
  },
  {
   "cell_type": "code",
   "execution_count": null,
   "metadata": {
    "collapsed": true
   },
   "outputs": [],
   "source": [
    "#Set up a new set of parameters for power spectra and correlation functions\n",
    "PS=Power_Spectra()\n",
    "PS.pk_params['kmax']=520\n",
    "PS.pk_params['kmin']=1e-2\n",
    "PS.pk_params['non_linear']=1\n",
    "rmin=.01\n",
    "rmax=20"
   ]
  },
  {
   "cell_type": "code",
   "execution_count": null,
   "metadata": {
    "collapsed": true
   },
   "outputs": [],
   "source": [
    "cosmo_params=dict({'h':cosmo.h,'Omb':cosmo.Ob0,'Omd':cosmo.Odm0,'Om':cosmo.Om0,\n",
    "                'As':2.14e-09,'mnu':cosmo.m_nu[-1].value,'Omk':cosmo.Ok0,'tau':0.06,'ns':0.965,\n",
    "                  'w':-1,'wa':0})"
   ]
  },
  {
   "cell_type": "code",
   "execution_count": null,
   "metadata": {
    "collapsed": true
   },
   "outputs": [],
   "source": [
    "pk,kh=PS.class_pk(z_lens,cosmo_params=cosmo_params,pk_params=pk_params,return_s8=False)\n",
    "h=cosmo.h\n",
    "k=kh*h\n",
    "pk=pk/h**3\n",
    "rho=PS.Rho_crit(cosmo=cosmo)*cosmo.Om0"
   ]
  },
  {
   "cell_type": "code",
   "execution_count": null,
   "metadata": {
    "collapsed": true,
    "scrolled": true
   },
   "outputs": [],
   "source": [
    "#Setting up the Hankel Transform\n",
    "#This part is slower. But only needs to be run once. \n",
    "#If you only need wgg, set j_nu=[0]. For wg+ (or \\Delta\\Sigma) use j_nu=[2]\n",
    "%time HT=hankel_transform(rmin=rmin,rmax=rmax,kmax=PS.pk_params['kmax'],j_nu=[2],n_zeros=80000,kmin=PS.pk_params['kmin'],prune_r=2)\n",
    "%time HT_inv=hankel_transform(rmin=PS.pk_params['kmin'],rmax=PS.pk_params['kmax'],kmax=rmax,j_nu=[2],n_zeros=80000,kmin=rmin,prune_r=50)\n",
    "#HT=hankel_transform(rmin=1,rmax=rmax,kmax=1,j_nu=[0,2],n_zeros=2800,kmin=1.e-2)#quick test... inaccurate"
   ]
  },
  {
   "cell_type": "code",
   "execution_count": null,
   "metadata": {
    "collapsed": true
   },
   "outputs": [],
   "source": [
    "x=HT_inv.k[2]>DS_prof['rp'].max()\n",
    "DS2=DS_prof['DS'][-1]*DS_prof['rp'][-1]/HT_inv.k[2][x]\n",
    "DS2=np.append(DS_prof['DS'],DS2)\n",
    "rp2=np.append(DS_prof['rp'],HT_inv.k[2][x]) #this doesnot help\n",
    "#DS2 = savgol_filter(DS2, 5, 3) # window size 51, polynomial order 3"
   ]
  },
  {
   "cell_type": "code",
   "execution_count": null,
   "metadata": {
    "collapsed": true
   },
   "outputs": [],
   "source": [
    "plot(DS_prof['rp'],DS_prof['DS'])\n",
    "plot(rp2,DS2)\n",
    "xscale('log')\n",
    "yscale('log')"
   ]
  },
  {
   "cell_type": "code",
   "execution_count": null,
   "metadata": {
    "collapsed": true
   },
   "outputs": [],
   "source": [
    "k2,p_gk2=HT_inv.projected_correlation(k_pk=rp2,pk=DS2,j_nu=2)\n",
    "p_gk2*=(2*np.pi)**2 #factors due to fourier convention\n",
    "p_gk2*=(HT.kmax**2/HT.rmax**2) #https://www.gnu.org/software/gsl/doc/html/dht.html\n",
    "#p_gk2 = savgol_filter(p_gk2, 21, 3) # window size 51, polynomial order 3"
   ]
  },
  {
   "cell_type": "raw",
   "metadata": {},
   "source": [
    "f=16 #????????\n",
    "p_gk2*=f"
   ]
  },
  {
   "cell_type": "code",
   "execution_count": null,
   "metadata": {
    "collapsed": true
   },
   "outputs": [],
   "source": [
    "#check with Suhkdeep\n",
    "b_g=1\n",
    "p_g=b_g**2*pk[0]\n",
    "p_gk=b_g*pk[0]*rho"
   ]
  },
  {
   "cell_type": "code",
   "execution_count": null,
   "metadata": {
    "collapsed": true
   },
   "outputs": [],
   "source": [
    "loglog(k2,p_gk2,label='DS-HT') #sim profile, extrapolated and then inv-HT\n",
    "loglog(k,p_gk,label='Halofit')\n",
    "legend()"
   ]
  },
  {
   "cell_type": "raw",
   "metadata": {},
   "source": [
    "pgk_intp=interp1d(k,p_gk,bounds_error=False,fill_value=0)\n",
    "p_gk2=pgk_intp(k2)"
   ]
  },
  {
   "cell_type": "code",
   "execution_count": null,
   "metadata": {
    "collapsed": true
   },
   "outputs": [],
   "source": [
    "r_th,DS_th2=HT.projected_correlation(k_pk=k2,pk=p_gk2,j_nu=2)\n",
    "r_th,DS_th=HT.projected_correlation(k_pk=k,pk=p_gk,j_nu=2)"
   ]
  },
  {
   "cell_type": "code",
   "execution_count": null,
   "metadata": {
    "collapsed": true
   },
   "outputs": [],
   "source": [
    "rp,DS_th_b=HT.bin_mat(r=r_th,r_bins=rp_bins,mat=DS_th) #bin the theory predictions\n",
    "rp,DS_th_b2=HT.bin_mat(r=r_th,r_bins=rp_bins,mat=DS_th2) #bin the theory predictions"
   ]
  },
  {
   "cell_type": "code",
   "execution_count": null,
   "metadata": {
    "collapsed": true
   },
   "outputs": [],
   "source": [
    "plot(DS_prof['rp'],DS_prof['DS'],'--',label='Sims')\n",
    "plot(rp,DS_th_b2,label='Sim-HT') # Extrapolatred profile from sims, inv-HT to get power spectra and then HT back\n",
    "plot(rp,DS_th_b,label='Halofit')\n",
    "xscale('log')\n",
    "yscale('log')\n",
    "legend()"
   ]
  },
  {
   "cell_type": "markdown",
   "metadata": {
    "collapsed": true
   },
   "source": [
    "# g-g Lensing covariance"
   ]
  },
  {
   "cell_type": "code",
   "execution_count": null,
   "metadata": {
    "collapsed": true
   },
   "outputs": [],
   "source": [
    "#change to parameters we used\n",
    "z_source=np.atleast_1d([0.8])\n",
    "sigma_gamma=0.28\n",
    "#sigma_e=.36\n",
    "#sigma_gamma=sigma_e/sqrt(2)\n",
    "n_s_arcmin=18 #perarcmin**2"
   ]
  },
  {
   "cell_type": "code",
   "execution_count": null,
   "metadata": {
    "collapsed": true
   },
   "outputs": [],
   "source": [
    "#n_g=phiintegral\n",
    "n_g=3.e-4\n",
    "g_shot_noise=1./n_g"
   ]
  },
  {
   "cell_type": "code",
   "execution_count": null,
   "metadata": {
    "collapsed": true
   },
   "outputs": [],
   "source": [
    "L_W=cosmo.angular_diameter_distance(z_lens_max)-cosmo.angular_diameter_distance(z_lens_min)\n",
    "L_W=L_W.value\n",
    "\n",
    "area=300 #in deg^-2\n",
    "area_comoving=area*(np.pi/180)**2*cosmo.angular_diameter_distance(z_lens_mean)**2"
   ]
  },
  {
   "cell_type": "code",
   "execution_count": null,
   "metadata": {
    "collapsed": true
   },
   "outputs": [],
   "source": [
    "#check H0 and comoving physical\n",
    "sigma_crit=PS.sigma_crit(zl=z_lens,zs=z_source,cosmo=cosmo)\n",
    "sigma_crit=sigma_crit[0,0].value"
   ]
  },
  {
   "cell_type": "code",
   "execution_count": null,
   "metadata": {
    "collapsed": true
   },
   "outputs": [],
   "source": [
    "d2r=np.pi/180.\n",
    "n_s=n_s_arcmin*3600/d2r**2\n",
    "shape_noise=sigma_gamma**2/n_s"
   ]
  },
  {
   "cell_type": "code",
   "execution_count": null,
   "metadata": {
    "collapsed": true
   },
   "outputs": [],
   "source": [
    "l,cl_kappa_kappa=PS.kappa_cl(zs1=z_source,p_zs1=[1],zs2=z_source,p_zs2=[1],zl_max=z_source,n_zl=100,\n",
    "                             l=np.arange(5.e5),cosmo=cosmo)\n",
    "chi=cosmo.angular_diameter_distance(z_lens)\n",
    "k_l=(l+0.5)/chi\n",
    "cl_intp=interp1d(k_l,cl_kappa_kappa,bounds_error=False,fill_value=0)\n",
    "p_kappa_kappa=sigma_crit**2*(cl_intp(k)+shape_noise)*chi**2"
   ]
  },
  {
   "cell_type": "code",
   "execution_count": null,
   "metadata": {
    "collapsed": true
   },
   "outputs": [],
   "source": [
    "plot(k,p_kappa_kappa*p_g/L_W)\n",
    "plot(k,p_gk**2,'--')\n",
    "xscale('log')\n",
    "yscale('log')"
   ]
  },
  {
   "cell_type": "code",
   "execution_count": null,
   "metadata": {
    "collapsed": true
   },
   "outputs": [],
   "source": [
    "taper_kw=dict({'large_k_lower':500,'large_k_upper':PS.pk_params['kmax'],'low_k_lower':PS.pk_params['kmin'],\n",
    "               'low_k_upper':PS.pk_params['kmin']*1.2})"
   ]
  },
  {
   "cell_type": "code",
   "execution_count": null,
   "metadata": {
    "collapsed": true
   },
   "outputs": [],
   "source": [
    "r,cov_ggkk=HT.projected_covariance(k_pk=k,pk1=p_g+g_shot_noise,pk2=p_kappa_kappa,j_nu=2,taper=True,**taper_kw)\n",
    "r_re,cov_ggkk_re=HT.bin_cov(r=r,cov=cov_ggkk,r_bins=rp_bins)\n",
    "corr=HT.corr_matrix(cov=cov_ggkk_re)"
   ]
  },
  {
   "cell_type": "code",
   "execution_count": null,
   "metadata": {
    "collapsed": true
   },
   "outputs": [],
   "source": [
    "r,cov_gkgk=HT.projected_covariance(k_pk=k,pk1=p_gk,pk2=p_gk,j_nu=2,taper=True,**taper_kw)#return_Jrr=True,Jrr=Jrr\n",
    "r_re,cov_gkgk_re=HT.bin_cov(r=r,cov=cov_gkgk,r_bins=rp_bins)\n",
    "corr=HT.corr_matrix(cov=cov_gkgk_re)"
   ]
  },
  {
   "cell_type": "code",
   "execution_count": null,
   "metadata": {
    "collapsed": true
   },
   "outputs": [],
   "source": [
    "cov_ggkk_re/=(area_comoving.value*L_W)\n",
    "cov_gkgk_re/=area_comoving.value\n",
    "cov_final=(cov_ggkk_re+cov_gkgk_re)#/area_comoving.value\n",
    "corr=HT.corr_matrix(cov=cov_final)\n",
    "errors=HT.diagonal_err(cov=cov_final)\n",
    "errors_ggkk=HT.diagonal_err(cov=cov_ggkk_re)\n",
    "errors_gkgk=HT.diagonal_err(cov=cov_gkgk_re)"
   ]
  },
  {
   "cell_type": "code",
   "execution_count": null,
   "metadata": {
    "collapsed": true
   },
   "outputs": [],
   "source": [
    "pcolor(r_re,r_re,corr,vmin=-1,vmax=1,cmap='seismic')\n",
    "colorbar()\n",
    "xscale('log')\n",
    "yscale('log')\n",
    "xlim(HT.rmin,HT.rmax)\n",
    "ylim(HT.rmin,HT.rmax)"
   ]
  },
  {
   "cell_type": "code",
   "execution_count": null,
   "metadata": {
    "collapsed": true
   },
   "outputs": [],
   "source": [
    "plot(rp,DS_th_b,'--',label='signal')\n",
    "plot(r_re,errors,label='all')\n",
    "plot(r_re,errors_ggkk,label='ggkk')\n",
    "plot(r_re,errors_gkgk,label='gkgk')\n",
    "xscale('log')\n",
    "yscale('log')\n",
    "legend()\n",
    "# xlim(1,100)"
   ]
  },
  {
   "cell_type": "code",
   "execution_count": null,
   "metadata": {
    "collapsed": true
   },
   "outputs": [],
   "source": []
  },
  {
   "cell_type": "code",
   "execution_count": null,
   "metadata": {
    "collapsed": true
   },
   "outputs": [],
   "source": []
  }
 ],
 "metadata": {
  "kernelspec": {
   "display_name": "Python 3",
   "language": "python",
   "name": "python3"
  },
  "language_info": {
   "codemirror_mode": {
    "name": "ipython",
    "version": 3
   },
   "file_extension": ".py",
   "mimetype": "text/x-python",
   "name": "python",
   "nbconvert_exporter": "python",
   "pygments_lexer": "ipython3",
   "version": "3.6.1"
  }
 },
 "nbformat": 4,
 "nbformat_minor": 1
}
