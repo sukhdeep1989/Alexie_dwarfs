{
 "cells": [
  {
   "cell_type": "markdown",
   "metadata": {},
   "source": [
    "# This notebook computes predictions for lensing of dwarf galaxies for various upcoming lensing surveys."
   ]
  },
  {
   "cell_type": "code",
   "execution_count": 1,
   "metadata": {
    "collapsed": false
   },
   "outputs": [
    {
     "ename": "ModuleNotFoundError",
     "evalue": "No module named 'classy'",
     "output_type": "error",
     "traceback": [
      "\u001b[0;31m---------------------------------------------------------------------------\u001b[0m",
      "\u001b[0;31mModuleNotFoundError\u001b[0m                       Traceback (most recent call last)",
      "\u001b[0;32m<ipython-input-1-e34246213349>\u001b[0m in \u001b[0;36m<module>\u001b[0;34m()\u001b[0m\n\u001b[1;32m      5\u001b[0m \u001b[0;32mfrom\u001b[0m \u001b[0mscipy\u001b[0m\u001b[0;34m.\u001b[0m\u001b[0minterpolate\u001b[0m \u001b[0;32mimport\u001b[0m \u001b[0minterp1d\u001b[0m\u001b[0;34m\u001b[0m\u001b[0m\n\u001b[1;32m      6\u001b[0m \u001b[0;32mfrom\u001b[0m \u001b[0mhankel_transform\u001b[0m \u001b[0;32mimport\u001b[0m \u001b[0;34m*\u001b[0m\u001b[0;34m\u001b[0m\u001b[0m\n\u001b[0;32m----> 7\u001b[0;31m \u001b[0;32mfrom\u001b[0m \u001b[0mpower_spectra\u001b[0m \u001b[0;32mimport\u001b[0m \u001b[0;34m*\u001b[0m\u001b[0;34m\u001b[0m\u001b[0m\n\u001b[0m\u001b[1;32m      8\u001b[0m \u001b[0;32mfrom\u001b[0m \u001b[0mastropy\u001b[0m\u001b[0;34m.\u001b[0m\u001b[0mcosmology\u001b[0m \u001b[0;32mimport\u001b[0m \u001b[0mPlanck15\u001b[0m \u001b[0;32mas\u001b[0m \u001b[0mcosmo\u001b[0m \u001b[0;31m#use Planck15 if you can\u001b[0m\u001b[0;34m\u001b[0m\u001b[0m\n\u001b[1;32m      9\u001b[0m \u001b[0;32mimport\u001b[0m \u001b[0mastropy\u001b[0m\u001b[0;34m.\u001b[0m\u001b[0munits\u001b[0m \u001b[0;32mas\u001b[0m \u001b[0mu\u001b[0m\u001b[0;34m\u001b[0m\u001b[0m\n",
      "\u001b[0;32m/Users/alexie/Work/Cosmos0509/DwarfLensing/Alexie_dwarfs/power_spectra.py\u001b[0m in \u001b[0;36m<module>\u001b[0;34m()\u001b[0m\n\u001b[1;32m      3\u001b[0m \u001b[0;34m\u001b[0m\u001b[0m\n\u001b[1;32m      4\u001b[0m \u001b[0;31m#import pyccl #pip install ccl\u001b[0m\u001b[0;34m\u001b[0m\u001b[0;34m\u001b[0m\u001b[0m\n\u001b[0;32m----> 5\u001b[0;31m \u001b[0;32mfrom\u001b[0m \u001b[0mclassy\u001b[0m \u001b[0;32mimport\u001b[0m \u001b[0mClass\u001b[0m\u001b[0;34m\u001b[0m\u001b[0m\n\u001b[0m\u001b[1;32m      6\u001b[0m \u001b[0;32mimport\u001b[0m \u001b[0mnumpy\u001b[0m \u001b[0;32mas\u001b[0m \u001b[0mnp\u001b[0m\u001b[0;34m\u001b[0m\u001b[0m\n\u001b[1;32m      7\u001b[0m \u001b[0;32mfrom\u001b[0m \u001b[0mscipy\u001b[0m\u001b[0;34m.\u001b[0m\u001b[0minterpolate\u001b[0m \u001b[0;32mimport\u001b[0m \u001b[0minterp1d\u001b[0m\u001b[0;34m\u001b[0m\u001b[0m\n",
      "\u001b[0;31mModuleNotFoundError\u001b[0m: No module named 'classy'"
     ]
    }
   ],
   "source": [
    "#import camb\n",
    "#pars = camb.CAMBparams()\n",
    "from scipy.special import jn, jn_zeros\n",
    "#from camb import model, initialpower\n",
    "from scipy.interpolate import interp1d\n",
    "from hankel_transform import *\n",
    "from power_spectra import *\n",
    "from astropy.cosmology import Planck15 as cosmo #use Planck15 if you can\n",
    "import astropy.units as u\n",
    "from matplotlib.colors import LogNorm\n",
    "import matplotlib.pyplot as plt\n",
    "plt.rcParams['figure.figsize'] = [12, 8]\n",
    "plt.rcParams[\"font.family\"] = \"serif\"\n",
    "from scipy.signal import savgol_filter\n",
    "import scipy.integrate as integrate\n",
    "\n",
    "plt.rcParams['text.usetex'] = False\n",
    "#rc('text', usetex=False)\n",
    "cosmo_h=cosmo.clone(H0=70)"
   ]
  },
  {
   "cell_type": "code",
   "execution_count": null,
   "metadata": {
    "collapsed": true
   },
   "outputs": [],
   "source": [
    "# Option: use shape noise only (shapenoiseonly=1), or all sources of noise\n",
    "shapenoiseonly = 0"
   ]
  },
  {
   "cell_type": "code",
   "execution_count": null,
   "metadata": {
    "collapsed": true
   },
   "outputs": [],
   "source": [
    "# Read in the COSMOS GALAXY SMF\n",
    "SMF_prof=np.genfromtxt('./cosmos2015_dic2017_smf_z01-04_STY0.txt',names=('log_m','log_phi','log_phi_inf','log_phi_sup'))\n",
    "log_m=SMF_prof['log_m']\n",
    "log_phi=SMF_prof['log_phi']"
   ]
  },
  {
   "cell_type": "markdown",
   "metadata": {},
   "source": [
    "## Survey and Lens Sample Parameters"
   ]
  },
  {
   "cell_type": "code",
   "execution_count": null,
   "metadata": {
    "collapsed": true
   },
   "outputs": [],
   "source": [
    "# COSMOS Survey\n",
    "z_source=np.atleast_1d([1.2])   # mean redshift of sources\n",
    "sigma_gamma=0.28\n",
    "n_s_arcmin=39.0 #n sources per arcmin^2\n",
    "area=1.64 #in deg^-2\n",
    "\n",
    "z_lens_min=0.0\n",
    "z_lens_max=0.25\n",
    "z_lens_mean =0.18 # Got this value from data\n",
    "\n",
    "# Range of lens M*\n",
    "Ms_min = 8\n",
    "Ms_max = 9\n",
    "\n",
    "resultfile='cosmos_8_9_0_0.25.txt'\n",
    "\n",
    "# Corresponding DS file from Felipe\n",
    "DS_prof=np.genfromtxt('./BolPlanck_r_DS_50.txt',names=('rp','DS'))"
   ]
  },
  {
   "cell_type": "raw",
   "metadata": {
    "collapsed": true
   },
   "source": [
    "# HSC wide\n",
    "z_source=np.atleast_1d([0.81])   # mean redshift of sources\n",
    "sigma_gamma=0.28\n",
    "n_s_arcmin=18.5 #n sources per arcmin^2\n",
    "area=1000.0 #in deg^-2\n",
    "\n",
    "z_lens_min=0.0\n",
    "z_lens_max=0.25\n",
    "z_lens_mean =0.18 # Got this value from data\n",
    "\n",
    "# Range of lens M*\n",
    "Ms_min = 8\n",
    "Ms_max = 9\n",
    "\n",
    "resultfile='hscwide_8_9_0_0.25.txt'\n",
    "\n",
    "# Corresponding DS file from Felipe\n",
    "DS_prof=np.genfromtxt('./BolPlanck_r_DS_50.txt',names=('rp','DS'))"
   ]
  },
  {
   "cell_type": "raw",
   "metadata": {
    "collapsed": true
   },
   "source": [
    "# LSST wide\n",
    "z_source=np.atleast_1d([1.2])   # mean redshift of sources\n",
    "sigma_gamma=0.28\n",
    "n_s_arcmin=30.0 #n sources per arcmin^2\n",
    "area=18000.0 #in deg^-2\n",
    "\n",
    "z_lens_min=0.0\n",
    "z_lens_max=0.25\n",
    "z_lens_mean =0.18 # Got this value from data\n",
    "\n",
    "# Range of lens M*\n",
    "Ms_min = 8\n",
    "Ms_max = 9\n",
    "\n",
    "resultfile='lsstwide_8_9_0_0.25.txt'\n",
    "\n",
    "# Corresponding DS file from Felipe\n",
    "DS_prof=np.genfromtxt('./BolPlanck_r_DS_50.txt',names=('rp','DS'))"
   ]
  },
  {
   "cell_type": "raw",
   "metadata": {},
   "source": [
    "# Euclid wide\n",
    "z_source=np.atleast_1d([1.2])   # mean redshift of sources\n",
    "sigma_gamma=0.28\n",
    "n_s_arcmin=30.0 #n sources per arcmin^2\n",
    "area=15000.0 #in deg^-2\n",
    "\n",
    "z_lens_min=0.0\n",
    "z_lens_max=0.25\n",
    "z_lens_mean =0.18 # Got this value from data\n",
    "\n",
    "# Range of lens M*\n",
    "Ms_min = 8\n",
    "Ms_max = 9\n",
    "\n",
    "resultfile='euclid_8_9_0_0.25.txt'\n",
    "\n",
    "# Corresponding DS file from Felipe\n",
    "DS_prof=np.genfromtxt('./BolPlanck_r_DS_50.txt',names=('rp','DS'))"
   ]
  },
  {
   "cell_type": "raw",
   "metadata": {},
   "source": [
    "# WFIRSTHLS\n",
    "z_source=np.atleast_1d([1.1])   # mean redshift of sources\n",
    "sigma_gamma=0.28\n",
    "n_s_arcmin=45.0 #n sources per arcmin^2\n",
    "area=2400.0 #in deg^-2\n",
    "\n",
    "z_lens_min=0.0\n",
    "z_lens_max=0.25\n",
    "z_lens_mean =0.18 # Got this value from data\n",
    "\n",
    "# Range of lens M*\n",
    "Ms_min = 8\n",
    "Ms_max = 9\n",
    "\n",
    "resultfile='wfirst_8_9_0_0.25.txt'\n",
    "\n",
    "# Corresponding DS file from Felipe\n",
    "DS_prof=np.genfromtxt('./BolPlanck_r_DS_50.txt',names=('rp','DS'))"
   ]
  },
  {
   "cell_type": "code",
   "execution_count": null,
   "metadata": {
    "collapsed": true
   },
   "outputs": [],
   "source": [
    "z_lens=np.atleast_1d([z_lens_mean])"
   ]
  },
  {
   "cell_type": "code",
   "execution_count": null,
   "metadata": {
    "collapsed": true
   },
   "outputs": [],
   "source": [
    "# Get the number density of lenses by integrating the SMF\n",
    "# and shot noise\n",
    "\n",
    "SMF = interp1d(log_m, log_phi, kind=3)\n",
    "x_SMF = np.linspace(0,13,10000)\n",
    "Phi_interp1d = SMF(x_SMF)\n",
    "SMF_new = interp1d(x_SMF, pow(10,Phi_interp1d), kind=3)\n",
    "phiintegral = integrate.quad(lambda x: SMF_new(x), Ms_min, Ms_max)[0]\n",
    "n_g = phiintegral\n",
    "g_shot_noise=1./n_g"
   ]
  },
  {
   "cell_type": "code",
   "execution_count": null,
   "metadata": {
    "collapsed": true
   },
   "outputs": [],
   "source": [
    "# Set up the R binning in DS\n",
    "dlogr=np.gradient(np.log10(DS_prof['rp']))[0]\n",
    "rmin=0.01 #10**(np.log10(DS_prof['rp'][0])-dlogr/2)\n",
    "rmax=20 #10**(np.log10(DS_prof['rp'][-1])+dlogr/2)\n",
    "nbins=len(DS_prof['rp'])\n",
    "\n",
    "rp_bins=np.logspace(np.log10(rmin),np.log10(rmax),nbins+1)"
   ]
  },
  {
   "cell_type": "code",
   "execution_count": null,
   "metadata": {
    "collapsed": true
   },
   "outputs": [],
   "source": [
    "#Set up a new set of parameters for power spectra and correlation functions\n",
    "PS=Power_Spectra()\n",
    "PS.pk_params['kmax']=520\n",
    "PS.pk_params['kmin']=1e-2\n",
    "PS.pk_params['non_linear']=1\n",
    "rmin=.01\n",
    "rmax=20"
   ]
  },
  {
   "cell_type": "code",
   "execution_count": null,
   "metadata": {
    "collapsed": true
   },
   "outputs": [],
   "source": [
    "cosmo_params=dict({'h':cosmo.h,'Omb':cosmo.Ob0,'Omd':cosmo.Odm0,'Om':cosmo.Om0,\n",
    "                'As':2.14e-09,'mnu':cosmo.m_nu[-1].value,'Omk':cosmo.Ok0,'tau':0.06,'ns':0.965,\n",
    "                  'w':-1,'wa':0})"
   ]
  },
  {
   "cell_type": "code",
   "execution_count": null,
   "metadata": {
    "collapsed": true
   },
   "outputs": [],
   "source": [
    "pk,kh=PS.class_pk(z_lens,cosmo_params=cosmo_params,pk_params=pk_params,return_s8=False)\n",
    "h=cosmo.h\n",
    "k=kh*h\n",
    "pk=pk/h**3\n",
    "rho=PS.Rho_crit(cosmo=cosmo)*cosmo.Om0"
   ]
  },
  {
   "cell_type": "code",
   "execution_count": null,
   "metadata": {
    "collapsed": false,
    "scrolled": true
   },
   "outputs": [],
   "source": [
    "#Setting up the Hankel Transform\n",
    "#This deals with the interpolation over the Bessel Functions\n",
    "#This part is slower. But only needs to be run once. \n",
    "#If you only need wgg, set j_nu=[0]. For wg+ (or \\Delta\\Sigma) use j_nu=[2]\n",
    "%time HT=hankel_transform(rmin=rmin,rmax=rmax,kmax=PS.pk_params['kmax'],j_nu=[2],n_zeros=80000,kmin=PS.pk_params['kmin'],prune_r=0)\n",
    "%time HT_inv=hankel_transform(rmin=PS.pk_params['kmin'],rmax=PS.pk_params['kmax'],kmax=rmax,j_nu=[2],n_zeros=80000,kmin=rmin,prune_r=50)\n",
    "#HT=hankel_transform(rmin=1,rmax=rmax,kmax=1,j_nu=[0,2],n_zeros=2800,kmin=1.e-2)#quick test... inaccurate"
   ]
  },
  {
   "cell_type": "code",
   "execution_count": null,
   "metadata": {
    "collapsed": true
   },
   "outputs": [],
   "source": [
    "x=HT_inv.k[2]>DS_prof['rp'].max()\n",
    "DS2=DS_prof['DS'][-1]*DS_prof['rp'][-1]/HT_inv.k[2][x]\n",
    "DS2=np.append(DS_prof['DS'],DS2)\n",
    "rp2=np.append(DS_prof['rp'],HT_inv.k[2][x]) #this doesnot help\n",
    "#DS2 = savgol_filter(DS2, 5, 3) # window size 51, polynomial order 3"
   ]
  },
  {
   "cell_type": "code",
   "execution_count": null,
   "metadata": {
    "collapsed": false
   },
   "outputs": [],
   "source": [
    "plt.plot(DS_prof['rp'],DS_prof['DS'])\n",
    "plt.plot(rp2,DS2)\n",
    "plt.xscale('log')\n",
    "plt.yscale('log')\n",
    "plt.show()"
   ]
  },
  {
   "cell_type": "code",
   "execution_count": null,
   "metadata": {
    "collapsed": true
   },
   "outputs": [],
   "source": [
    "k2,p_gk2=HT_inv.projected_correlation(k_pk=rp2,pk=DS2,j_nu=2)\n",
    "p_gk2*=(2*np.pi)**2 #factors due to fourier convention\n",
    "# p_gk2*=(HT.kmax[2]**2/HT.rmax[2]**2) #https://www.gnu.org/software/gsl/doc/html/dht.html\n",
    "#p_gk2 = savgol_filter(p_gk2, 21, 3) # window size 51, polynomial order 3"
   ]
  },
  {
   "cell_type": "code",
   "execution_count": null,
   "metadata": {
    "collapsed": true
   },
   "outputs": [],
   "source": [
    "# This is just for the clustering term\n",
    "# In the future could do more sophisticated model for bias of clustering\n",
    "# by measuring the clustering in the simulation\n",
    "# Could do a b1 and b2 term\n",
    "# shouldnt have a large impact on the errors though\n",
    "b_g=1\n",
    "p_g=b_g**2*pk[0]\n",
    "p_gk=b_g*pk[0]*rho"
   ]
  },
  {
   "cell_type": "code",
   "execution_count": null,
   "metadata": {
    "collapsed": false
   },
   "outputs": [],
   "source": [
    "plt.loglog(k2,p_gk2,label='DS-HT') #sim profile, extrapolated and then inv-HT\n",
    "plt.loglog(k,p_gk,label='Halofit')\n",
    "plt.legend()\n",
    "plt.show()"
   ]
  },
  {
   "cell_type": "raw",
   "metadata": {},
   "source": [
    "pgk_intp=interp1d(k,p_gk,bounds_error=False,fill_value=0)\n",
    "p_gk2=pgk_intp(k2)"
   ]
  },
  {
   "cell_type": "code",
   "execution_count": null,
   "metadata": {
    "collapsed": true
   },
   "outputs": [],
   "source": [
    "r_th,DS_th2=HT.projected_correlation(k_pk=k2,pk=p_gk2,j_nu=2)\n",
    "r_th,DS_th=HT.projected_correlation(k_pk=k,pk=p_gk,j_nu=2)"
   ]
  },
  {
   "cell_type": "code",
   "execution_count": null,
   "metadata": {
    "collapsed": true
   },
   "outputs": [],
   "source": [
    "rp,DS_th_b=HT.bin_mat(r=r_th,r_bins=rp_bins,mat=DS_th) #bin the theory predictions\n",
    "rp,DS_th_b2=HT.bin_mat(r=r_th,r_bins=rp_bins,mat=DS_th2) #bin the theory predictions"
   ]
  },
  {
   "cell_type": "code",
   "execution_count": null,
   "metadata": {
    "collapsed": false
   },
   "outputs": [],
   "source": [
    "plt.plot(DS_prof['rp'],DS_prof['DS'],'--',label='Sims')\n",
    "plt.plot(rp,DS_th_b2,label='Sim-HT') # Extrapolatred profile from sims, inv-HT to get power spectra and then HT back\n",
    "plt.plot(rp,DS_th_b,label='Halofit')\n",
    "plt.xscale('log')\n",
    "plt.yscale('log')\n",
    "plt.legend()\n",
    "plt.show()"
   ]
  },
  {
   "cell_type": "markdown",
   "metadata": {
    "collapsed": true
   },
   "source": [
    "# g-g Lensing covariance"
   ]
  },
  {
   "cell_type": "markdown",
   "metadata": {},
   "source": [
    "We are using the real-space DS(r_p) covariance expression from Sukhdeep Singh's paper, Eq 10.\n",
    "http://adsabs.harvard.edu/abs/2016arXiv161100752S\n",
    "\n",
    "Here we are using the part withuot the curly brackets (as explained later in the text, if you subtract DS around randoms to get the optimal estimator, you get rid of the curly brackets term)\n",
    "\n",
    "We are ignoring the connected $T_{g \\gamma g \\gamma}$ term, as it’s unlikely to be very important and is so much harder to calculate, and we are just keeping the $(P_{gg} + N_g) (P_{\\gamma \\gamma} + N_\\gamma) + P_{g \\gamma}^2$ stuff, so you have lens clustering and shot noise, cosmic shear and shape noise, and cosmic variance terms."
   ]
  },
  {
   "cell_type": "code",
   "execution_count": null,
   "metadata": {
    "collapsed": true
   },
   "outputs": [],
   "source": [
    "# This is the comoving distance between zlens_min and zlens_max\n",
    "# line of sight window lenght\n",
    "# redshift bins lens Mpc\n",
    "L_W=cosmo.angular_diameter_distance(z_lens_max)-cosmo.angular_diameter_distance(z_lens_min)\n",
    "L_W=L_W.value\n",
    "\n",
    "area_comoving=area*(np.pi/180)**2*cosmo.angular_diameter_distance(z_lens_mean)**2"
   ]
  },
  {
   "cell_type": "code",
   "execution_count": null,
   "metadata": {
    "collapsed": true
   },
   "outputs": [],
   "source": [
    "#check H0 and comoving physical\n",
    "sigma_crit=PS.sigma_crit(zl=z_lens,zs=z_source,cosmo=cosmo)\n",
    "sigma_crit=sigma_crit[0,0].value"
   ]
  },
  {
   "cell_type": "code",
   "execution_count": null,
   "metadata": {
    "collapsed": true
   },
   "outputs": [],
   "source": [
    "d2r=np.pi/180.\n",
    "n_s=n_s_arcmin*3600/d2r**2\n",
    "shape_noise=sigma_gamma**2/n_s"
   ]
  },
  {
   "cell_type": "code",
   "execution_count": null,
   "metadata": {
    "collapsed": false
   },
   "outputs": [],
   "source": [
    "l,cl_kappa_kappa=PS.kappa_cl(zs1=z_source,p_zs1=[1],zs2=z_source,p_zs2=[1],zl_max=z_source,n_zl=100,\n",
    "                             l=np.arange(5.e5),cosmo=cosmo)\n",
    "chi=cosmo.angular_diameter_distance(z_lens)\n",
    "k_l=(l+0.5)/chi\n",
    "cl_intp=interp1d(k_l,cl_kappa_kappa,bounds_error=False,fill_value=0)\n",
    "\n",
    "# approximation of convergence power spectrum p_kappa_kappa\n",
    "# integration over LOS window function\n",
    "\n",
    "# YIFEI CHECK HERE!!!\n",
    "# Comment out here to change\n",
    "if shapenoiseonly =1:\n",
    "    p_kappa_kappa=sigma_crit**2*(cl_intp(k)*0+shape_noise)*chi**2 #shape noise only    \n",
    "else:\n",
    "    p_kappa_kappa=sigma_crit**2*(cl_intp(k)+shape_noise)*chi**2  #all noise\n"
   ]
  },
  {
   "cell_type": "code",
   "execution_count": null,
   "metadata": {
    "collapsed": false
   },
   "outputs": [],
   "source": [
    "plt.plot(k,p_kappa_kappa*p_g/L_W)\n",
    "plt.plot(k,p_gk**2,'--')\n",
    "plt.xscale('log')\n",
    "plt.yscale('log')\n",
    "plt.show()"
   ]
  },
  {
   "cell_type": "code",
   "execution_count": null,
   "metadata": {
    "collapsed": true
   },
   "outputs": [],
   "source": [
    "taper_kw=dict({'large_k_lower':500,'large_k_upper':PS.pk_params['kmax'],'low_k_lower':PS.pk_params['kmin'],\n",
    "               'low_k_upper':PS.pk_params['kmin']*1.2})"
   ]
  },
  {
   "cell_type": "code",
   "execution_count": null,
   "metadata": {
    "collapsed": false
   },
   "outputs": [],
   "source": [
    "# Pgg x Pgammagamma\n",
    "\n",
    "if shapenoiseonly =1:\n",
    "    r,cov_ggkk=HT.projected_covariance(k_pk=k,pk1=p_g*0+g_shot_noise,pk2=p_kappa_kappa,j_nu=2,taper=True,**taper_kw) #shape noise only\n",
    "else:\n",
    "    r,cov_ggkk=HT.projected_covariance(k_pk=k,pk1=p_g+g_shot_noise,pk2=p_kappa_kappa,j_nu=2,taper=True,**taper_kw) #all noise\n",
    "\n",
    "\n",
    "r_re,cov_ggkk_re=HT.bin_cov(r=r,cov=cov_ggkk,r_bins=rp_bins)\n",
    "corr=HT.corr_matrix(cov=cov_ggkk_re)"
   ]
  },
  {
   "cell_type": "code",
   "execution_count": null,
   "metadata": {
    "collapsed": false
   },
   "outputs": [],
   "source": [
    "#### ***** YIFEI CHECK HERE\n",
    "\n",
    "r,cov_gkgk=HT.projected_covariance(k_pk=k,pk1=p_gk,pk2=p_gk,j_nu=2,taper=True,**taper_kw)#return_Jrr=True,Jrr=Jrr\n",
    "#Donot use gkgk when doing noise only\n",
    "r_re,cov_gkgk_re=HT.bin_cov(r=r,cov=cov_gkgk,r_bins=rp_bins)\n",
    "corr=HT.corr_matrix(cov=cov_gkgk_re)"
   ]
  },
  {
   "cell_type": "code",
   "execution_count": null,
   "metadata": {
    "collapsed": false
   },
   "outputs": [],
   "source": [
    "# Pgg x Pgammagamma\n",
    "\n",
    "cov_ggkk_re/=(area_comoving.value*L_W)\n",
    "cov_gkgk_re/=area_comoving.value\n",
    "\n",
    "if shapenoiseonly =1:\n",
    "     cov_final=cov_ggkk_re #shape noise only    \n",
    "else:\n",
    "      cov_final=(cov_ggkk_re+cov_gkgk_re)#/area_comoving.value #all noise\n",
    "\n",
    "corr=HT.corr_matrix(cov=cov_final)\n",
    "errors=HT.diagonal_err(cov=cov_final)\n",
    "errors_ggkk=HT.diagonal_err(cov=cov_ggkk_re)\n",
    "errors_gkgk=HT.diagonal_err(cov=cov_gkgk_re)"
   ]
  },
  {
   "cell_type": "code",
   "execution_count": null,
   "metadata": {
    "collapsed": true
   },
   "outputs": [],
   "source": [
    "# Plot DS with errors here"
   ]
  },
  {
   "cell_type": "code",
   "execution_count": null,
   "metadata": {
    "collapsed": true
   },
   "outputs": [],
   "source": [
    "# Save the results in a file\n",
    "# save resultfile here"
   ]
  }
 ],
 "metadata": {
  "kernelspec": {
   "display_name": "Python 3",
   "language": "python",
   "name": "python3"
  },
  "language_info": {
   "codemirror_mode": {
    "name": "ipython",
    "version": 3
   },
   "file_extension": ".py",
   "mimetype": "text/x-python",
   "name": "python",
   "nbconvert_exporter": "python",
   "pygments_lexer": "ipython3",
   "version": "3.6.0"
  }
 },
 "nbformat": 4,
 "nbformat_minor": 1
}
